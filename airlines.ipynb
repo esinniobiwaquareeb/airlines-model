{
 "cells": [
  {
   "cell_type": "markdown",
   "id": "c4a400d4",
   "metadata": {},
   "source": [
    "# Airlines delay analysis and prediction"
   ]
  },
  {
   "cell_type": "markdown",
   "id": "d5f38bb4",
   "metadata": {},
   "source": [
    "About Dataset\n",
    "Airlines dataset has 539383 instances and 9 different features. The task is to predict whether a given flight will be delayed, given the information of the scheduled departure.\n",
    "\n",
    "Available Feature Names\n",
    "\n",
    "1. ID <br>\n",
    "2. Airline <br>\n",
    "3. Flight <br>\n",
    "4. Airport From <br>\n",
    "5. Airport To <br>\n",
    "6. DayOfWeek <br>\n",
    "7. Time <br>\n",
    "8. Lenght <br>\n",
    "9. Delay\n",
    "\n",
    "Alaska Airlines AS / ASA<br>\n",
    "American Airlines AA/AAL<br>\n",
    "Air Canada AC/ACA<br>\n",
    "Aeromexico AM / AMX<br>\n",
    "Continental Airlines CO / COA<br>\n",
    "Delta Airlines DL / DAL<br>\n",
    "FedEx FX / FDX<br>\n",
    "Hawaiian Airlines HA / HAL<br>\n",
    "Northwest Airlines NW / NWA<br>\n",
    "Polar Air Cargo PO / PAC<br>\n",
    "Southwest Airlines SW / SWA<br>\n",
    "United Airlines UA / UAL<br>\n",
    "United Parcel (UPS) 5X / UPS<br>\n",
    "Virgin Atlantic VS / VIR<br>\n",
    "VivaAerobús VB / VIV<br>\n",
    "WestJet WS / WJ<br>\n",
    "\n",
    "ATL - Hartsfield-Jackson Atlanta International Airport - Georgia<br>\n",
    "AUS - Austin-Bergstrom International Airport - Texas<br>\n",
    "BNA - Nashville International Airport - Tennessee<br>\n",
    "BOS - Boston Logan International Airport - Massachusetts<br>\n",
    "BWI - Baltimore-Washington International Thurgood Marshall Airport - Washington<br>\n",
    "CLT - Charlotte Douglas International Airport - North Carolina<br>\n",
    "DAL - Dallas Love Field - Texas<br>\n",
    "DCA - Ronald Reagan Washington National Airport - Arlington, Virginia<br>\n",
    "DEN - Denver International Airport - Colorado<br>\n",
    "DFW - Dallas/Fort Worth International Airport - Texas<br>\n",
    "DTW - Detroit Metropolitan Airport - Michigan<br>\n",
    "EWR - Newark Liberty International Airport - New Jersey<br>\n",
    "FLL - Fort Lauderdale–Hollywood International Airport - Florida<br>\n",
    "HNL - Daniel K. Inouye International Airport - Honolulu, Hawaii<br>\n",
    "HOU - William P. Hobby Airport - Houston, Texas<br>\n",
    "IAD - Dulles International Airport - Virginia<br>\n",
    "IAH - George Bush Intercontinental Airport - Houston, Texas<br>\n",
    "JFK - John F. Kennedy International Airport - Queens, New York<br>\n",
    "LAS - McCarran International Airport - Las Vegas, Nevada<br>\n",
    "LAX - Los Angeles International Airport - California<br>\n",
    "LGA - LaGuardia Airport - Queens, New York<br>\n",
    "MCO - Orlando International Airport - Florida<br>\n",
    "MDW - Chicago Midway International Airport - Illinois<br>\n",
    "MIA - Miami International Airport - Florida<br>\n",
    "MSP - Minneapolis–Saint Paul International Airport - Minnesota<br>\n",
    "MSY - Louis Armstrong New Orleans International Airport - Louisiana<br>\n",
    "OAK - Oakland International Airport - California<br>\n",
    "ORD - O'Hare International Airport - Chicago, Illinois<br>\n",
    "PDX - Portland International Airport - Oregon<br>\n",
    "PHL - Philadelphia International Airport - Pennsylvania<br>\n",
    "PHX - Phoenix Sky Harbor International Airport - Arizona<br>\n",
    "RDU - Raleigh-Durham International Airport - North Carolina<br>\n",
    "SAN - San Diego International Airport - California<br>\n",
    "SEA - Seattle–Tacoma International Airport - Washington<br>\n",
    "SFO - San Francisco International Airport - California<br>\n",
    "SJC - Norman Y. Mineta San Jose International Airport - California<br>\n",
    "SLC - Salt Lake City International Airport - Utah<br>\n",
    "SMF - Sacramento International Airport - California<br>\n",
    "STL - St. Louis Lambert International Airport - Missouri<br>\n",
    "TPA - Tampa International Airport - Florida"
   ]
  },
  {
   "cell_type": "markdown",
   "id": "dc4053a0",
   "metadata": {},
   "source": [
    "## Step 1: Import required libraries\n"
   ]
  },
  {
   "cell_type": "code",
   "execution_count": 122,
   "id": "ef53361f",
   "metadata": {},
   "outputs": [],
   "source": [
    "import pandas as pd\n",
    "import numpy as np\n",
    "import seaborn as sns\n",
    "from sklearn.tree import DecisionTreeClassifier\n",
    "from sklearn.model_selection import train_test_split \n",
    "from sklearn.preprocessing import MinMaxScaler\n",
    "from sklearn.linear_model import LogisticRegression\n",
    "from sklearn.metrics import mean_squared_error, r2_score, accuracy_score\n",
    "import matplotlib.pyplot as plt\n",
    "from sklearn.metrics import classification_report, confusion_matrix"
   ]
  },
  {
   "cell_type": "markdown",
   "id": "07dbe65b",
   "metadata": {},
   "source": [
    "## Step 2: Data Analysis and Inspection\n",
    "\n",
    "This module gets details the features of the dataset. It is paramount for the preprocessing steps."
   ]
  },
  {
   "cell_type": "code",
   "execution_count": 123,
   "id": "7205bec8",
   "metadata": {},
   "outputs": [],
   "source": [
    "# Load in the data\n",
    "airlines_df = pd.read_csv('Airlines.csv')"
   ]
  },
  {
   "cell_type": "code",
   "execution_count": 124,
   "id": "9fd8a1f0",
   "metadata": {},
   "outputs": [
    {
     "data": {
      "text/html": [
       "<div>\n",
       "<style scoped>\n",
       "    .dataframe tbody tr th:only-of-type {\n",
       "        vertical-align: middle;\n",
       "    }\n",
       "\n",
       "    .dataframe tbody tr th {\n",
       "        vertical-align: top;\n",
       "    }\n",
       "\n",
       "    .dataframe thead th {\n",
       "        text-align: right;\n",
       "    }\n",
       "</style>\n",
       "<table border=\"1\" class=\"dataframe\">\n",
       "  <thead>\n",
       "    <tr style=\"text-align: right;\">\n",
       "      <th></th>\n",
       "      <th>id</th>\n",
       "      <th>Airline</th>\n",
       "      <th>Flight</th>\n",
       "      <th>AirportFrom</th>\n",
       "      <th>AirportTo</th>\n",
       "      <th>DayOfWeek</th>\n",
       "      <th>Time</th>\n",
       "      <th>Length</th>\n",
       "      <th>Delay</th>\n",
       "    </tr>\n",
       "  </thead>\n",
       "  <tbody>\n",
       "    <tr>\n",
       "      <th>0</th>\n",
       "      <td>1</td>\n",
       "      <td>CO</td>\n",
       "      <td>269</td>\n",
       "      <td>SFO</td>\n",
       "      <td>IAH</td>\n",
       "      <td>3</td>\n",
       "      <td>15</td>\n",
       "      <td>205</td>\n",
       "      <td>1</td>\n",
       "    </tr>\n",
       "    <tr>\n",
       "      <th>1</th>\n",
       "      <td>2</td>\n",
       "      <td>US</td>\n",
       "      <td>1558</td>\n",
       "      <td>PHX</td>\n",
       "      <td>CLT</td>\n",
       "      <td>3</td>\n",
       "      <td>15</td>\n",
       "      <td>222</td>\n",
       "      <td>1</td>\n",
       "    </tr>\n",
       "    <tr>\n",
       "      <th>2</th>\n",
       "      <td>3</td>\n",
       "      <td>AA</td>\n",
       "      <td>2400</td>\n",
       "      <td>LAX</td>\n",
       "      <td>DFW</td>\n",
       "      <td>3</td>\n",
       "      <td>20</td>\n",
       "      <td>165</td>\n",
       "      <td>1</td>\n",
       "    </tr>\n",
       "    <tr>\n",
       "      <th>3</th>\n",
       "      <td>4</td>\n",
       "      <td>AA</td>\n",
       "      <td>2466</td>\n",
       "      <td>SFO</td>\n",
       "      <td>DFW</td>\n",
       "      <td>3</td>\n",
       "      <td>20</td>\n",
       "      <td>195</td>\n",
       "      <td>1</td>\n",
       "    </tr>\n",
       "    <tr>\n",
       "      <th>4</th>\n",
       "      <td>5</td>\n",
       "      <td>AS</td>\n",
       "      <td>108</td>\n",
       "      <td>ANC</td>\n",
       "      <td>SEA</td>\n",
       "      <td>3</td>\n",
       "      <td>30</td>\n",
       "      <td>202</td>\n",
       "      <td>0</td>\n",
       "    </tr>\n",
       "    <tr>\n",
       "      <th>...</th>\n",
       "      <td>...</td>\n",
       "      <td>...</td>\n",
       "      <td>...</td>\n",
       "      <td>...</td>\n",
       "      <td>...</td>\n",
       "      <td>...</td>\n",
       "      <td>...</td>\n",
       "      <td>...</td>\n",
       "      <td>...</td>\n",
       "    </tr>\n",
       "    <tr>\n",
       "      <th>539378</th>\n",
       "      <td>539379</td>\n",
       "      <td>CO</td>\n",
       "      <td>178</td>\n",
       "      <td>OGG</td>\n",
       "      <td>SNA</td>\n",
       "      <td>5</td>\n",
       "      <td>1439</td>\n",
       "      <td>326</td>\n",
       "      <td>0</td>\n",
       "    </tr>\n",
       "    <tr>\n",
       "      <th>539379</th>\n",
       "      <td>539380</td>\n",
       "      <td>FL</td>\n",
       "      <td>398</td>\n",
       "      <td>SEA</td>\n",
       "      <td>ATL</td>\n",
       "      <td>5</td>\n",
       "      <td>1439</td>\n",
       "      <td>305</td>\n",
       "      <td>0</td>\n",
       "    </tr>\n",
       "    <tr>\n",
       "      <th>539380</th>\n",
       "      <td>539381</td>\n",
       "      <td>FL</td>\n",
       "      <td>609</td>\n",
       "      <td>SFO</td>\n",
       "      <td>MKE</td>\n",
       "      <td>5</td>\n",
       "      <td>1439</td>\n",
       "      <td>255</td>\n",
       "      <td>0</td>\n",
       "    </tr>\n",
       "    <tr>\n",
       "      <th>539381</th>\n",
       "      <td>539382</td>\n",
       "      <td>UA</td>\n",
       "      <td>78</td>\n",
       "      <td>HNL</td>\n",
       "      <td>SFO</td>\n",
       "      <td>5</td>\n",
       "      <td>1439</td>\n",
       "      <td>313</td>\n",
       "      <td>1</td>\n",
       "    </tr>\n",
       "    <tr>\n",
       "      <th>539382</th>\n",
       "      <td>539383</td>\n",
       "      <td>US</td>\n",
       "      <td>1442</td>\n",
       "      <td>LAX</td>\n",
       "      <td>PHL</td>\n",
       "      <td>5</td>\n",
       "      <td>1439</td>\n",
       "      <td>301</td>\n",
       "      <td>1</td>\n",
       "    </tr>\n",
       "  </tbody>\n",
       "</table>\n",
       "<p>539383 rows × 9 columns</p>\n",
       "</div>"
      ],
      "text/plain": [
       "            id Airline  Flight AirportFrom AirportTo  DayOfWeek  Time  Length  \\\n",
       "0            1      CO     269         SFO       IAH          3    15     205   \n",
       "1            2      US    1558         PHX       CLT          3    15     222   \n",
       "2            3      AA    2400         LAX       DFW          3    20     165   \n",
       "3            4      AA    2466         SFO       DFW          3    20     195   \n",
       "4            5      AS     108         ANC       SEA          3    30     202   \n",
       "...        ...     ...     ...         ...       ...        ...   ...     ...   \n",
       "539378  539379      CO     178         OGG       SNA          5  1439     326   \n",
       "539379  539380      FL     398         SEA       ATL          5  1439     305   \n",
       "539380  539381      FL     609         SFO       MKE          5  1439     255   \n",
       "539381  539382      UA      78         HNL       SFO          5  1439     313   \n",
       "539382  539383      US    1442         LAX       PHL          5  1439     301   \n",
       "\n",
       "        Delay  \n",
       "0           1  \n",
       "1           1  \n",
       "2           1  \n",
       "3           1  \n",
       "4           0  \n",
       "...       ...  \n",
       "539378      0  \n",
       "539379      0  \n",
       "539380      0  \n",
       "539381      1  \n",
       "539382      1  \n",
       "\n",
       "[539383 rows x 9 columns]"
      ]
     },
     "execution_count": 124,
     "metadata": {},
     "output_type": "execute_result"
    }
   ],
   "source": [
    "#DataFrame (df). DataFrame is a 2-dimensional labeled data structure with columns of potentially different types.\n",
    "airlines_df"
   ]
  },
  {
   "cell_type": "code",
   "execution_count": 125,
   "id": "212fac67",
   "metadata": {},
   "outputs": [
    {
     "name": "stdout",
     "output_type": "stream",
     "text": [
      "   id Airline  Flight AirportFrom AirportTo  DayOfWeek  Time  Length  Delay\n",
      "0   1      CO     269         SFO       IAH          3    15     205      1\n",
      "1   2      US    1558         PHX       CLT          3    15     222      1\n",
      "2   3      AA    2400         LAX       DFW          3    20     165      1\n",
      "3   4      AA    2466         SFO       DFW          3    20     195      1\n",
      "4   5      AS     108         ANC       SEA          3    30     202      0\n",
      "\n",
      "\n"
     ]
    }
   ],
   "source": [
    "# Print summary of data\n",
    "print(airlines_df.head())\n",
    "print('\\n')"
   ]
  },
  {
   "cell_type": "code",
   "execution_count": 126,
   "id": "1684704a",
   "metadata": {},
   "outputs": [
    {
     "name": "stdout",
     "output_type": "stream",
     "text": [
      "                 id         Flight      DayOfWeek           Time  \\\n",
      "count  539383.00000  539383.000000  539383.000000  539383.000000   \n",
      "mean   269692.00000    2427.928630       3.929668     802.728963   \n",
      "std    155706.60446    2067.429837       1.914664     278.045911   \n",
      "min         1.00000       1.000000       1.000000      10.000000   \n",
      "25%    134846.50000     712.000000       2.000000     565.000000   \n",
      "50%    269692.00000    1809.000000       4.000000     795.000000   \n",
      "75%    404537.50000    3745.000000       5.000000    1035.000000   \n",
      "max    539383.00000    7814.000000       7.000000    1439.000000   \n",
      "\n",
      "              Length          Delay  \n",
      "count  539383.000000  539383.000000  \n",
      "mean      132.202007       0.445442  \n",
      "std        70.117016       0.497015  \n",
      "min         0.000000       0.000000  \n",
      "25%        81.000000       0.000000  \n",
      "50%       115.000000       0.000000  \n",
      "75%       162.000000       1.000000  \n",
      "max       655.000000       1.000000  \n",
      "\n",
      "\n"
     ]
    }
   ],
   "source": [
    "print(airlines_df.describe())\n",
    "print('\\n')"
   ]
  },
  {
   "cell_type": "code",
   "execution_count": 127,
   "id": "e52d5d1e",
   "metadata": {},
   "outputs": [
    {
     "name": "stdout",
     "output_type": "stream",
     "text": [
      "<class 'pandas.core.frame.DataFrame'>\n",
      "RangeIndex: 539383 entries, 0 to 539382\n",
      "Data columns (total 9 columns):\n",
      " #   Column       Non-Null Count   Dtype \n",
      "---  ------       --------------   ----- \n",
      " 0   id           539383 non-null  int64 \n",
      " 1   Airline      539383 non-null  object\n",
      " 2   Flight       539383 non-null  int64 \n",
      " 3   AirportFrom  539383 non-null  object\n",
      " 4   AirportTo    539383 non-null  object\n",
      " 5   DayOfWeek    539383 non-null  int64 \n",
      " 6   Time         539383 non-null  int64 \n",
      " 7   Length       539383 non-null  int64 \n",
      " 8   Delay        539383 non-null  int64 \n",
      "dtypes: int64(6), object(3)\n",
      "memory usage: 37.0+ MB\n",
      "None\n",
      "\n",
      "\n"
     ]
    }
   ],
   "source": [
    "print(airlines_df.info())\n",
    "print('\\n')"
   ]
  },
  {
   "cell_type": "code",
   "execution_count": 128,
   "id": "e31823ec",
   "metadata": {},
   "outputs": [
    {
     "name": "stdout",
     "output_type": "stream",
     "text": [
      "id             539383\n",
      "Airline            18\n",
      "Flight           6585\n",
      "AirportFrom       293\n",
      "AirportTo         293\n",
      "DayOfWeek           7\n",
      "Time             1131\n",
      "Length            426\n",
      "Delay               2\n",
      "dtype: int64\n",
      "\n",
      "\n"
     ]
    }
   ],
   "source": [
    "# Get Unique information of all the available fields\n",
    "print(airlines_df.nunique())\n",
    "print('\\n')"
   ]
  },
  {
   "cell_type": "code",
   "execution_count": 129,
   "id": "83d84b5d",
   "metadata": {},
   "outputs": [
    {
     "data": {
      "image/png": "[encoded data removed]",
      "text/plain": [
       "<Figure size 432x288 with 1 Axes>"
      ]
     },
     "metadata": {
      "needs_background": "light"
     },
     "output_type": "display_data"
    }
   ],
   "source": [
    "# Get Delay plot which is the main subject of the analysis\n",
    "plt.hist(airlines_df['Delay'])\n",
    "plt.show()"
   ]
  },
  {
   "cell_type": "markdown",
   "id": "e26db3cd",
   "metadata": {},
   "source": [
    "### 1. Check airline with the MOST and <b>LEAST<b> Delays"
   ]
  },
  {
   "cell_type": "code",
   "execution_count": 130,
   "id": "054d87b2",
   "metadata": {},
   "outputs": [
    {
     "data": {
      "text/html": [
       "<div>\n",
       "<style scoped>\n",
       "    .dataframe tbody tr th:only-of-type {\n",
       "        vertical-align: middle;\n",
       "    }\n",
       "\n",
       "    .dataframe tbody tr th {\n",
       "        vertical-align: top;\n",
       "    }\n",
       "\n",
       "    .dataframe thead th {\n",
       "        text-align: right;\n",
       "    }\n",
       "</style>\n",
       "<table border=\"1\" class=\"dataframe\">\n",
       "  <thead>\n",
       "    <tr style=\"text-align: right;\">\n",
       "      <th></th>\n",
       "      <th>index</th>\n",
       "      <th>Airline</th>\n",
       "      <th>Delay</th>\n",
       "    </tr>\n",
       "  </thead>\n",
       "  <tbody>\n",
       "    <tr>\n",
       "      <th>0</th>\n",
       "      <td>15</td>\n",
       "      <td>WN</td>\n",
       "      <td>94097</td>\n",
       "    </tr>\n",
       "    <tr>\n",
       "      <th>1</th>\n",
       "      <td>5</td>\n",
       "      <td>DL</td>\n",
       "      <td>60940</td>\n",
       "    </tr>\n",
       "    <tr>\n",
       "      <th>2</th>\n",
       "      <td>12</td>\n",
       "      <td>OO</td>\n",
       "      <td>50254</td>\n",
       "    </tr>\n",
       "    <tr>\n",
       "      <th>3</th>\n",
       "      <td>1</td>\n",
       "      <td>AA</td>\n",
       "      <td>45656</td>\n",
       "    </tr>\n",
       "    <tr>\n",
       "      <th>4</th>\n",
       "      <td>10</td>\n",
       "      <td>MQ</td>\n",
       "      <td>36605</td>\n",
       "    </tr>\n",
       "  </tbody>\n",
       "</table>\n",
       "</div>"
      ],
      "text/plain": [
       "   index Airline  Delay\n",
       "0     15      WN  94097\n",
       "1      5      DL  60940\n",
       "2     12      OO  50254\n",
       "3      1      AA  45656\n",
       "4     10      MQ  36605"
      ]
     },
     "execution_count": 130,
     "metadata": {},
     "output_type": "execute_result"
    }
   ],
   "source": [
    "df_airline_count_delay = airlines_df[['Airline', 'Delay']].groupby('Airline').agg('count').reset_index()\n",
    "df_airline_count_delay = df_airline_count_delay.sort_values(by = 'Delay', ascending = False)\n",
    "df_airline_count_delay = df_airline_count_delay.reset_index()\n",
    "df_airline_count_delay.head()"
   ]
  },
  {
   "cell_type": "code",
   "execution_count": 131,
   "id": "702a64ba",
   "metadata": {},
   "outputs": [
    {
     "data": {
      "image/png": "[encoded data removed]",
      "text/plain": [
       "<Figure size 1296x288 with 1 Axes>"
      ]
     },
     "metadata": {
      "needs_background": "light"
     },
     "output_type": "display_data"
    }
   ],
   "source": [
    "# Present the table above in form of graph\n",
    "plt.figure(figsize = (18,4))\n",
    "sns.boxplot(x= 'Airline',y = 'Delay', color = 'blue', \n",
    "            data = df_airline_count_delay)\n",
    "plt.show()"
   ]
  },
  {
   "cell_type": "code",
   "execution_count": 132,
   "id": "16e84cf1",
   "metadata": {},
   "outputs": [],
   "source": [
    "# Inference: Northwest Airlines having the most delays and Hawaiian airlines with least delays."
   ]
  },
  {
   "cell_type": "markdown",
   "id": "2d150b0e",
   "metadata": {},
   "source": [
    "### 2. Checking the (AirportFrom) which the flight starts from with the most and least delay"
   ]
  },
  {
   "cell_type": "code",
   "execution_count": 133,
   "id": "523c3dad",
   "metadata": {},
   "outputs": [
    {
     "data": {
      "text/html": [
       "<div>\n",
       "<style scoped>\n",
       "    .dataframe tbody tr th:only-of-type {\n",
       "        vertical-align: middle;\n",
       "    }\n",
       "\n",
       "    .dataframe tbody tr th {\n",
       "        vertical-align: top;\n",
       "    }\n",
       "\n",
       "    .dataframe thead th {\n",
       "        text-align: right;\n",
       "    }\n",
       "</style>\n",
       "<table border=\"1\" class=\"dataframe\">\n",
       "  <thead>\n",
       "    <tr style=\"text-align: right;\">\n",
       "      <th></th>\n",
       "      <th>index</th>\n",
       "      <th>AirportFrom</th>\n",
       "      <th>Delay</th>\n",
       "    </tr>\n",
       "  </thead>\n",
       "  <tbody>\n",
       "    <tr>\n",
       "      <th>0</th>\n",
       "      <td>16</td>\n",
       "      <td>ATL</td>\n",
       "      <td>34449</td>\n",
       "    </tr>\n",
       "    <tr>\n",
       "      <th>1</th>\n",
       "      <td>208</td>\n",
       "      <td>ORD</td>\n",
       "      <td>24822</td>\n",
       "    </tr>\n",
       "    <tr>\n",
       "      <th>2</th>\n",
       "      <td>80</td>\n",
       "      <td>DFW</td>\n",
       "      <td>22154</td>\n",
       "    </tr>\n",
       "    <tr>\n",
       "      <th>3</th>\n",
       "      <td>79</td>\n",
       "      <td>DEN</td>\n",
       "      <td>19843</td>\n",
       "    </tr>\n",
       "    <tr>\n",
       "      <th>4</th>\n",
       "      <td>154</td>\n",
       "      <td>LAX</td>\n",
       "      <td>16657</td>\n",
       "    </tr>\n",
       "  </tbody>\n",
       "</table>\n",
       "</div>"
      ],
      "text/plain": [
       "   index AirportFrom  Delay\n",
       "0     16         ATL  34449\n",
       "1    208         ORD  24822\n",
       "2     80         DFW  22154\n",
       "3     79         DEN  19843\n",
       "4    154         LAX  16657"
      ]
     },
     "execution_count": 133,
     "metadata": {},
     "output_type": "execute_result"
    }
   ],
   "source": [
    "df_airportfrom_count_delay = airlines_df[['AirportFrom', 'Delay']].groupby('AirportFrom').agg('count').reset_index()\n",
    "df_airportfrom_count_delay = df_airportfrom_count_delay.sort_values(by = 'Delay', ascending = False)\n",
    "df_airportfrom_count_delay = df_airportfrom_count_delay.reset_index()\n",
    "df_airportfrom_count_delay.head()"
   ]
  },
  {
   "cell_type": "code",
   "execution_count": 134,
   "id": "e621f041",
   "metadata": {},
   "outputs": [
    {
     "data": {
      "image/png": "[encoded data removed]",
      "text/plain": [
       "<Figure size 1440x792 with 1 Axes>"
      ]
     },
     "metadata": {
      "needs_background": "light"
     },
     "output_type": "display_data"
    }
   ],
   "source": [
    "plt.figure(figsize = (20,11))\n",
    "sns.boxplot(x= 'AirportFrom',y = 'Delay', color = 'blue', \n",
    "            data = df_airportfrom_count_delay[:25])\n",
    "plt.show()"
   ]
  },
  {
   "cell_type": "code",
   "execution_count": 135,
   "id": "788cf0a7",
   "metadata": {},
   "outputs": [
    {
     "data": {
      "image/png": "[encoded data removed]",
      "text/plain": [
       "<Figure size 1440x792 with 1 Axes>"
      ]
     },
     "metadata": {
      "needs_background": "light"
     },
     "output_type": "display_data"
    }
   ],
   "source": [
    "plt.figure(figsize = (20,11))\n",
    "sns.boxplot(x= 'AirportFrom',y = 'Delay', color = 'blue', \n",
    "            data = df_airportfrom_count_delay[-25:])\n",
    "plt.show()"
   ]
  },
  {
   "cell_type": "code",
   "execution_count": 136,
   "id": "6729ef50",
   "metadata": {},
   "outputs": [],
   "source": [
    "# Inference: Starts from Hartsfield-Jackson Atlanta International Airport (ATL) having the most delays and Aberdeen Regional Airport (ABR) with least delays."
   ]
  },
  {
   "cell_type": "markdown",
   "id": "acee7e24",
   "metadata": {},
   "source": [
    "### 3. Checking (AirportTo) which Airport the flight destination with the most and least delay"
   ]
  },
  {
   "cell_type": "code",
   "execution_count": 137,
   "id": "bae8d489",
   "metadata": {},
   "outputs": [
    {
     "data": {
      "text/html": [
       "<div>\n",
       "<style scoped>\n",
       "    .dataframe tbody tr th:only-of-type {\n",
       "        vertical-align: middle;\n",
       "    }\n",
       "\n",
       "    .dataframe tbody tr th {\n",
       "        vertical-align: top;\n",
       "    }\n",
       "\n",
       "    .dataframe thead th {\n",
       "        text-align: right;\n",
       "    }\n",
       "</style>\n",
       "<table border=\"1\" class=\"dataframe\">\n",
       "  <thead>\n",
       "    <tr style=\"text-align: right;\">\n",
       "      <th></th>\n",
       "      <th>index</th>\n",
       "      <th>AirportTo</th>\n",
       "      <th>Delay</th>\n",
       "    </tr>\n",
       "  </thead>\n",
       "  <tbody>\n",
       "    <tr>\n",
       "      <th>0</th>\n",
       "      <td>16</td>\n",
       "      <td>ATL</td>\n",
       "      <td>34440</td>\n",
       "    </tr>\n",
       "    <tr>\n",
       "      <th>1</th>\n",
       "      <td>208</td>\n",
       "      <td>ORD</td>\n",
       "      <td>24871</td>\n",
       "    </tr>\n",
       "    <tr>\n",
       "      <th>2</th>\n",
       "      <td>80</td>\n",
       "      <td>DFW</td>\n",
       "      <td>22153</td>\n",
       "    </tr>\n",
       "    <tr>\n",
       "      <th>3</th>\n",
       "      <td>79</td>\n",
       "      <td>DEN</td>\n",
       "      <td>19848</td>\n",
       "    </tr>\n",
       "    <tr>\n",
       "      <th>4</th>\n",
       "      <td>154</td>\n",
       "      <td>LAX</td>\n",
       "      <td>16656</td>\n",
       "    </tr>\n",
       "  </tbody>\n",
       "</table>\n",
       "</div>"
      ],
      "text/plain": [
       "   index AirportTo  Delay\n",
       "0     16       ATL  34440\n",
       "1    208       ORD  24871\n",
       "2     80       DFW  22153\n",
       "3     79       DEN  19848\n",
       "4    154       LAX  16656"
      ]
     },
     "execution_count": 137,
     "metadata": {},
     "output_type": "execute_result"
    }
   ],
   "source": [
    "df_airportto_count_delay = airlines_df[['AirportTo', 'Delay']].groupby('AirportTo').agg('count').reset_index()\n",
    "df_airportto_count_delay = df_airportto_count_delay.sort_values(by = 'Delay', ascending = False)\n",
    "df_airportto_count_delay = df_airportto_count_delay.reset_index()\n",
    "df_airportto_count_delay.head()"
   ]
  },
  {
   "cell_type": "code",
   "execution_count": 138,
   "id": "a71d9b6c",
   "metadata": {},
   "outputs": [
    {
     "data": {
      "image/png": "[encoded data removed]",
      "text/plain": [
       "<Figure size 1440x792 with 1 Axes>"
      ]
     },
     "metadata": {
      "needs_background": "light"
     },
     "output_type": "display_data"
    }
   ],
   "source": [
    "plt.figure(figsize = (20,11))\n",
    "sns.boxplot(x = 'AirportTo',y = 'Delay', color = 'blue', \n",
    "            data = df_airportto_count_delay[:25])\n",
    "plt.show()"
   ]
  },
  {
   "cell_type": "code",
   "execution_count": 139,
   "id": "bae8fc32",
   "metadata": {},
   "outputs": [
    {
     "data": {
      "image/png": "[encoded data removed]",
      "text/plain": [
       "<Figure size 1440x792 with 1 Axes>"
      ]
     },
     "metadata": {
      "needs_background": "light"
     },
     "output_type": "display_data"
    }
   ],
   "source": [
    "plt.figure(figsize = (20,11))\n",
    "sns.boxplot(x = 'AirportTo',y = 'Delay', color = 'blue', \n",
    "            data = df_airportto_count_delay[-25:])\n",
    "plt.show()"
   ]
  },
  {
   "cell_type": "code",
   "execution_count": 140,
   "id": "7d46f90f",
   "metadata": {},
   "outputs": [],
   "source": [
    "#inference: Destination to Hartsfield-Jackson Atlanta International Airport (ATL) having the most delays and Aberdeen Regional Airport (ABR) with least delays."
   ]
  },
  {
   "cell_type": "markdown",
   "id": "f486a8f5",
   "metadata": {},
   "source": [
    "### 4. Checking the day of the week with the MOST and LEAST delay"
   ]
  },
  {
   "cell_type": "code",
   "execution_count": 141,
   "id": "5fcd4d5b",
   "metadata": {},
   "outputs": [
    {
     "data": {
      "text/html": [
       "<div>\n",
       "<style scoped>\n",
       "    .dataframe tbody tr th:only-of-type {\n",
       "        vertical-align: middle;\n",
       "    }\n",
       "\n",
       "    .dataframe tbody tr th {\n",
       "        vertical-align: top;\n",
       "    }\n",
       "\n",
       "    .dataframe thead th {\n",
       "        text-align: right;\n",
       "    }\n",
       "</style>\n",
       "<table border=\"1\" class=\"dataframe\">\n",
       "  <thead>\n",
       "    <tr style=\"text-align: right;\">\n",
       "      <th></th>\n",
       "      <th>index</th>\n",
       "      <th>DayOfWeek</th>\n",
       "      <th>Delay</th>\n",
       "    </tr>\n",
       "  </thead>\n",
       "  <tbody>\n",
       "    <tr>\n",
       "      <th>0</th>\n",
       "      <td>3</td>\n",
       "      <td>4</td>\n",
       "      <td>91445</td>\n",
       "    </tr>\n",
       "    <tr>\n",
       "      <th>1</th>\n",
       "      <td>2</td>\n",
       "      <td>3</td>\n",
       "      <td>89746</td>\n",
       "    </tr>\n",
       "    <tr>\n",
       "      <th>2</th>\n",
       "      <td>4</td>\n",
       "      <td>5</td>\n",
       "      <td>85248</td>\n",
       "    </tr>\n",
       "    <tr>\n",
       "      <th>3</th>\n",
       "      <td>0</td>\n",
       "      <td>1</td>\n",
       "      <td>72769</td>\n",
       "    </tr>\n",
       "    <tr>\n",
       "      <th>4</th>\n",
       "      <td>1</td>\n",
       "      <td>2</td>\n",
       "      <td>71340</td>\n",
       "    </tr>\n",
       "  </tbody>\n",
       "</table>\n",
       "</div>"
      ],
      "text/plain": [
       "   index  DayOfWeek  Delay\n",
       "0      3          4  91445\n",
       "1      2          3  89746\n",
       "2      4          5  85248\n",
       "3      0          1  72769\n",
       "4      1          2  71340"
      ]
     },
     "execution_count": 141,
     "metadata": {},
     "output_type": "execute_result"
    }
   ],
   "source": [
    "df_day_count_delay = airlines_df[['DayOfWeek', 'Delay']].groupby('DayOfWeek').agg('count').reset_index()\n",
    "df_day_count_delay = df_day_count_delay.sort_values(by = 'Delay', ascending = False)\n",
    "df_day_count_delay = df_day_count_delay.reset_index()\n",
    "df_day_count_delay.head()"
   ]
  },
  {
   "cell_type": "code",
   "execution_count": 142,
   "id": "13873b5e",
   "metadata": {
    "scrolled": true
   },
   "outputs": [
    {
     "data": {
      "image/png": "[encoded data removed]",
      "text/plain": [
       "<Figure size 720x288 with 1 Axes>"
      ]
     },
     "metadata": {
      "needs_background": "light"
     },
     "output_type": "display_data"
    }
   ],
   "source": [
    "plt.figure(figsize = (10,4))\n",
    "sns.boxplot(x = 'DayOfWeek',y = 'Delay', color = 'blue', \n",
    "            data = df_day_count_delay)\n",
    "plt.show()"
   ]
  },
  {
   "cell_type": "code",
   "execution_count": 143,
   "id": "abb10b85",
   "metadata": {},
   "outputs": [],
   "source": [
    "#Inference: Day 4 having the most delays and Day 6 with least delays."
   ]
  },
  {
   "cell_type": "markdown",
   "id": "f0170594",
   "metadata": {},
   "source": [
    "### 5. Checking the route with the MOST and LEAST delay"
   ]
  },
  {
   "cell_type": "code",
   "execution_count": 144,
   "id": "fd547b02",
   "metadata": {},
   "outputs": [],
   "source": [
    "airlines_df['Route']=airlines_df['AirportFrom']+'-'+airlines_df['AirportTo']"
   ]
  },
  {
   "cell_type": "code",
   "execution_count": 145,
   "id": "442d8d1b",
   "metadata": {},
   "outputs": [
    {
     "data": {
      "text/html": [
       "<div>\n",
       "<style scoped>\n",
       "    .dataframe tbody tr th:only-of-type {\n",
       "        vertical-align: middle;\n",
       "    }\n",
       "\n",
       "    .dataframe tbody tr th {\n",
       "        vertical-align: top;\n",
       "    }\n",
       "\n",
       "    .dataframe thead th {\n",
       "        text-align: right;\n",
       "    }\n",
       "</style>\n",
       "<table border=\"1\" class=\"dataframe\">\n",
       "  <thead>\n",
       "    <tr style=\"text-align: right;\">\n",
       "      <th></th>\n",
       "      <th>index</th>\n",
       "      <th>Route</th>\n",
       "      <th>Delay</th>\n",
       "    </tr>\n",
       "  </thead>\n",
       "  <tbody>\n",
       "    <tr>\n",
       "      <th>0</th>\n",
       "      <td>2204</td>\n",
       "      <td>LAX-SFO</td>\n",
       "      <td>1079</td>\n",
       "    </tr>\n",
       "    <tr>\n",
       "      <th>1</th>\n",
       "      <td>3744</td>\n",
       "      <td>SFO-LAX</td>\n",
       "      <td>1077</td>\n",
       "    </tr>\n",
       "    <tr>\n",
       "      <th>2</th>\n",
       "      <td>2913</td>\n",
       "      <td>OGG-HNL</td>\n",
       "      <td>982</td>\n",
       "    </tr>\n",
       "    <tr>\n",
       "      <th>3</th>\n",
       "      <td>1650</td>\n",
       "      <td>HNL-OGG</td>\n",
       "      <td>951</td>\n",
       "    </tr>\n",
       "    <tr>\n",
       "      <th>4</th>\n",
       "      <td>3571</td>\n",
       "      <td>SAN-LAX</td>\n",
       "      <td>935</td>\n",
       "    </tr>\n",
       "    <tr>\n",
       "      <th>...</th>\n",
       "      <td>...</td>\n",
       "      <td>...</td>\n",
       "      <td>...</td>\n",
       "    </tr>\n",
       "    <tr>\n",
       "      <th>4185</th>\n",
       "      <td>1269</td>\n",
       "      <td>DTW-ICT</td>\n",
       "      <td>1</td>\n",
       "    </tr>\n",
       "    <tr>\n",
       "      <th>4186</th>\n",
       "      <td>3336</td>\n",
       "      <td>PIA-MSP</td>\n",
       "      <td>1</td>\n",
       "    </tr>\n",
       "    <tr>\n",
       "      <th>4187</th>\n",
       "      <td>1265</td>\n",
       "      <td>DTW-HPN</td>\n",
       "      <td>1</td>\n",
       "    </tr>\n",
       "    <tr>\n",
       "      <th>4188</th>\n",
       "      <td>3032</td>\n",
       "      <td>ORD-GEG</td>\n",
       "      <td>1</td>\n",
       "    </tr>\n",
       "    <tr>\n",
       "      <th>4189</th>\n",
       "      <td>2819</td>\n",
       "      <td>MSP-PVD</td>\n",
       "      <td>1</td>\n",
       "    </tr>\n",
       "  </tbody>\n",
       "</table>\n",
       "<p>4190 rows × 3 columns</p>\n",
       "</div>"
      ],
      "text/plain": [
       "      index    Route  Delay\n",
       "0      2204  LAX-SFO   1079\n",
       "1      3744  SFO-LAX   1077\n",
       "2      2913  OGG-HNL    982\n",
       "3      1650  HNL-OGG    951\n",
       "4      3571  SAN-LAX    935\n",
       "...     ...      ...    ...\n",
       "4185   1269  DTW-ICT      1\n",
       "4186   3336  PIA-MSP      1\n",
       "4187   1265  DTW-HPN      1\n",
       "4188   3032  ORD-GEG      1\n",
       "4189   2819  MSP-PVD      1\n",
       "\n",
       "[4190 rows x 3 columns]"
      ]
     },
     "execution_count": 145,
     "metadata": {},
     "output_type": "execute_result"
    }
   ],
   "source": [
    "df_route_count_delay = airlines_df[['Route', 'Delay']].groupby('Route').agg('count').reset_index()\n",
    "df_route_count_delay = df_route_count_delay.sort_values(by = 'Delay', ascending = False)\n",
    "df_route_count_delay = df_route_count_delay.reset_index()\n",
    "df_route_count_delay"
   ]
  },
  {
   "cell_type": "code",
   "execution_count": 146,
   "id": "0c8ed4ee",
   "metadata": {},
   "outputs": [
    {
     "data": {
      "image/png": "[encoded data removed]",
      "text/plain": [
       "<Figure size 720x288 with 1 Axes>"
      ]
     },
     "metadata": {
      "needs_background": "light"
     },
     "output_type": "display_data"
    }
   ],
   "source": [
    "plt.figure(figsize = (10,4))\n",
    "sns.boxplot(x = 'Route',y = 'Delay', color = 'blue', \n",
    "            data = df_route_count_delay[:10])\n",
    "plt.show()"
   ]
  },
  {
   "cell_type": "code",
   "execution_count": 147,
   "id": "f5132a25",
   "metadata": {},
   "outputs": [
    {
     "data": {
      "image/png": "[encoded data removed]",
      "text/plain": [
       "<Figure size 720x288 with 1 Axes>"
      ]
     },
     "metadata": {
      "needs_background": "light"
     },
     "output_type": "display_data"
    }
   ],
   "source": [
    "plt.figure(figsize = (10,4))\n",
    "sns.boxplot(x = 'Route',y = 'Delay', color = 'blue', \n",
    "            data = df_route_count_delay[-10:])\n",
    "plt.show()"
   ]
  },
  {
   "cell_type": "code",
   "execution_count": 148,
   "id": "59a1e1bc",
   "metadata": {},
   "outputs": [],
   "source": [
    "#Inference: Los Angeles International Airport - San Francisco International Airport (LAX-SFO) having the most delays and MSP-PVD, ORD-GEG, DTW-HPN with least delays"
   ]
  },
  {
   "cell_type": "markdown",
   "id": "1d505d85",
   "metadata": {},
   "source": [
    "## Step 3: Split the data into train and test sets\n",
    "\n",
    "Now we will split our dataset into training and testing sets. The data from our training set will be used to build the model and the data from the test set will be used to validate the model.\n",
    "\n",
    "We will also drop the Flight column (which shows which type of plane) and id column, as they may pollute our results (feature selection)"
   ]
  },
  {
   "cell_type": "code",
   "execution_count": 149,
   "id": "a062bac1",
   "metadata": {},
   "outputs": [],
   "source": [
    "# Drop the features Flight and id (They are not really needed for the process to come)\n",
    "airlines_df = airlines_df.drop([\"id\",\"Flight\"], axis=1)\n",
    "\n",
    "airlines_df['DayOfWeek'] = airlines_df[\"DayOfWeek\"].map({1:\"Sun\", 2:\"Mon\", 3:\"Tues\", 4:\"Wed\", 5:\"Thurs\", 6:\"Fri\", 7:\"Sat\"})\n",
    "\n",
    "delays = airlines_df[\"Delay\"].to_numpy()\n",
    "\n",
    "features = airlines_df.drop(['Delay'], axis=1)\n",
    "\n",
    "# split the data into training and testing sets\n",
    "X_train, X_test, y_train, y_test = train_test_split(features, delays, test_size=0.5, random_state=42, stratify=delays)"
   ]
  },
  {
   "cell_type": "markdown",
   "id": "d0598baa",
   "metadata": {},
   "source": [
    "## Step 4: Preprocessing\n",
    "\n",
    "There are a few data processing steps we need to execute before building our model:\n",
    "1. Some columns are numeric (int64, float64) and some are non-numeric(object)\n",
    "2. The numeric data has varying ranges.\n",
    "3. It's not the case for this dataset, but if there were missing values, we'd have to come up with an interpolation strategy for the empty cells"
   ]
  },
  {
   "cell_type": "code",
   "execution_count": 150,
   "id": "43282445",
   "metadata": {},
   "outputs": [],
   "source": [
    "# Convert the categorical features in the train and test sets independently\n",
    "# this improves computation time. There are also some models that require strictly numeric format\n",
    "X_train = pd.get_dummies(X_train)\n",
    "X_test = pd.get_dummies(X_test)\n",
    "\n",
    "# There is need to reindex the columns in case features appeared in the test set that were not in the train set\n",
    "# set the fill value to 0\n",
    "X_test = X_test.reindex(columns=X_train.columns, fill_value=0)\n",
    "\n",
    "# Instantiate MinMaxScaler and use it to rescale X_train and X_test\n",
    "scaler = MinMaxScaler(feature_range=(0,1))\n",
    "rescaled_X_train = scaler.fit_transform(X_train)\n",
    "rescaled_X_test = scaler.transform(X_test)"
   ]
  },
  {
   "cell_type": "markdown",
   "id": "fcb4aa1a",
   "metadata": {},
   "source": [
    "## Step 5: Building the ML Model"
   ]
  },
  {
   "cell_type": "markdown",
   "id": "74587446",
   "metadata": {},
   "source": [
    "### Model 1: Logistic Regression"
   ]
  },
  {
   "cell_type": "code",
   "execution_count": 151,
   "id": "60e52afe",
   "metadata": {},
   "outputs": [
    {
     "data": {
      "text/plain": [
       "LogisticRegression(max_iter=1000)"
      ]
     },
     "execution_count": 151,
     "metadata": {},
     "output_type": "execute_result"
    }
   ],
   "source": [
    "# Instantiate a LogisticRegression classifier with default parameter values\n",
    "logreg = LogisticRegression(max_iter=1000)\n",
    "# fit the model\n",
    "logreg.fit(rescaled_X_train, y_train)"
   ]
  },
  {
   "cell_type": "code",
   "execution_count": 152,
   "id": "eb03ea89",
   "metadata": {},
   "outputs": [
    {
     "name": "stdout",
     "output_type": "stream",
     "text": [
      "Accuracy of logistic regression classifier:  0.6629661353178267\n"
     ]
    }
   ],
   "source": [
    "y_pred_train = logreg.predict(rescaled_X_train)\n",
    "y_pred_test = logreg.predict(rescaled_X_test)\n",
    "\n",
    "print(\"Accuracy of logistic regression classifier: \",accuracy_score(y_train, y_pred_train))"
   ]
  },
  {
   "cell_type": "markdown",
   "id": "5bdcdd22",
   "metadata": {},
   "source": [
    "### Model 2: Decision Tree"
   ]
  },
  {
   "cell_type": "code",
   "execution_count": 153,
   "id": "c97b927e",
   "metadata": {},
   "outputs": [
    {
     "data": {
      "text/plain": [
       "DecisionTreeClassifier()"
      ]
     },
     "execution_count": 153,
     "metadata": {},
     "output_type": "execute_result"
    }
   ],
   "source": [
    "tree = DecisionTreeClassifier()\n",
    "tree.fit(X_train, y_train)"
   ]
  },
  {
   "cell_type": "code",
   "execution_count": 154,
   "id": "067f03df",
   "metadata": {},
   "outputs": [],
   "source": [
    "y_pred_train = tree.predict(X_train)\n",
    "y_pred_test = tree.predict(X_test)"
   ]
  },
  {
   "cell_type": "code",
   "execution_count": 155,
   "id": "5904dd91",
   "metadata": {},
   "outputs": [
    {
     "data": {
      "text/plain": [
       "array([0, 1, 0, ..., 1, 1, 1])"
      ]
     },
     "execution_count": 155,
     "metadata": {},
     "output_type": "execute_result"
    }
   ],
   "source": [
    "y_pred_train"
   ]
  },
  {
   "cell_type": "code",
   "execution_count": 156,
   "id": "bab668fd",
   "metadata": {},
   "outputs": [
    {
     "name": "stdout",
     "output_type": "stream",
     "text": [
      "Classification Report for Training Dataset\n",
      "==========================================\n",
      "              precision    recall  f1-score   support\n",
      "\n",
      "           0       0.82      0.97      0.89    149559\n",
      "           1       0.95      0.74      0.83    120132\n",
      "\n",
      "    accuracy                           0.86    269691\n",
      "   macro avg       0.88      0.85      0.86    269691\n",
      "weighted avg       0.88      0.86      0.86    269691\n",
      "\n",
      "Classification Report for Testing Dataset\n",
      "==========================================\n",
      "              precision    recall  f1-score   support\n",
      "\n",
      "           0       0.63      0.70      0.66    149560\n",
      "           1       0.57      0.49      0.52    120132\n",
      "\n",
      "    accuracy                           0.61    269692\n",
      "   macro avg       0.60      0.59      0.59    269692\n",
      "weighted avg       0.60      0.61      0.60    269692\n",
      "\n"
     ]
    }
   ],
   "source": [
    "print(\"Classification Report for Training Dataset\")\n",
    "print(\"==========================================\")\n",
    "print(classification_report(y_train, y_pred_train))\n",
    "\n",
    "print(\"Classification Report for Testing Dataset\")\n",
    "print(\"==========================================\")\n",
    "print(classification_report(y_test, y_pred_test))"
   ]
  },
  {
   "cell_type": "code",
   "execution_count": 157,
   "id": "af281738",
   "metadata": {},
   "outputs": [],
   "source": [
    "# Two algorithms were used to build the model, and it was discovered that Logistic Regression has better accuracy"
   ]
  }
 ],
 "metadata": {
  "kernelspec": {
   "display_name": "Python 3 (ipykernel)",
   "language": "python",
   "name": "python3"
  },
  "language_info": {
   "codemirror_mode": {
    "name": "ipython",
    "version": 3
   },
   "file_extension": ".py",
   "mimetype": "text/x-python",
   "name": "python",
   "nbconvert_exporter": "python",
   "pygments_lexer": "ipython3",
   "version": "3.9.7"
  }
 },
 "nbformat": 4,
 "nbformat_minor": 5
}
